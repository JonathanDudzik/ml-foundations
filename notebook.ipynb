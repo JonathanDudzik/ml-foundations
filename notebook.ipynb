{
 "cells": [
  {
   "cell_type": "code",
   "execution_count": 244,
   "metadata": {},
   "outputs": [
    {
     "data": {
      "text/plain": [
       "[<matplotlib.lines.Line2D at 0x7f48400d9430>]"
      ]
     },
     "execution_count": 244,
     "metadata": {},
     "output_type": "execute_result"
    },
    {
     "data": {
      "image/png": "[encoded data removed]",
      "text/plain": [
       "<Figure size 640x480 with 1 Axes>"
      ]
     },
     "metadata": {},
     "output_type": "display_data"
    },
    {
     "data": {
      "image/png": "[encoded data removed]",
      "text/plain": [
       "<Figure size 640x480 with 1 Axes>"
      ]
     },
     "metadata": {},
     "output_type": "display_data"
    }
   ],
   "source": [
    "# import the parts of the matplotlib library we need\n",
    "import matplotlib.ticker as ticker\n",
    "import matplotlib.pyplot as plt\n",
    "\n",
    "def setup(ax):\n",
    "    \"\"\"Set up common parameters for the Axes\"\"\"\n",
    "    # only show the bottom spine\n",
    "    ax.spines[['left', 'right', 'top']].set_visible(False)\n",
    "\n",
    "    # define ticks for y axis\n",
    "    ax.yaxis.set_ticks_position('left')\n",
    "    ax.yaxis.set_major_locator(ticker.NullLocator())\n",
    "    ax.yaxis.set_major_formatter(\"\")\n",
    "\n",
    "    # define ticks for x axis\n",
    "    ax.xaxis.set_ticks_position('bottom')\n",
    "    ax.xaxis.set_major_locator(ticker.MultipleLocator(1.00))\n",
    "\n",
    "    #  define tick styles\n",
    "    ax.tick_params(which='major', width=1.00, length=5)\n",
    "\n",
    "    # define number line range\n",
    "    ax.set_xlim(-3, 3)\n",
    "    ax.set_ylim(0, 1)\n",
    "\n",
    "# You can create multiple figures by using multiple figure calls with an \n",
    "# increasing figure number. Of course, each figure can contain as many axes \n",
    "# and subplots as your heart desires.\n",
    "\n",
    "# figure 1 graphs the inequality \"x is greater than -1\"\n",
    "plt.figure(1)\n",
    "ax = plt.subplot(8, 1, 2)\n",
    "setup(ax)\n",
    "\n",
    "# markevery with a list marks at those indices OF the plot x y lists (starts at 0)\n",
    "plt.plot([-0.9, 2.9], [0.2, 0.2])\n",
    "ax.plot(-1, 0.2, color='tab:blue', fillstyle='none', marker='o')\n",
    "ax.plot(2.9, 0.2, color='tab:blue', marker='>')\n",
    "\n",
    "# figure 2 graphs the inequality \"x is less than or equal to 2\"\n",
    "plt.figure(2)\n",
    "ax = plt.subplot(8, 1, 2)\n",
    "setup(ax)\n",
    "plt.plot([-2.9, 1.9], [0.2, 0.2])\n",
    "ax.plot(2, 0.2, color='tab:blue', marker='o')\n",
    "ax.plot(-2.9, 0.2, color='tab:blue', marker='<')"
   ]
  },
  {
   "cell_type": "code",
   "execution_count": 8,
   "metadata": {},
   "outputs": [
    {
     "data": {
      "image/png": "[encoded data removed]",
      "text/plain": [
       "<Figure size 600x400 with 1 Axes>"
      ]
     },
     "metadata": {},
     "output_type": "display_data"
    }
   ],
   "source": [
    "# import the parts of the matplotlib library we need\n",
    "import matplotlib.ticker as ticker\n",
    "import matplotlib.pyplot as plt\n",
    "\n",
    "def  setup(ax):\n",
    "\t\"\"\"Set up common parameters for the Axes\"\"\"\n",
    "\t# Only show the bottom spine.\n",
    "\tax.spines[['left', 'right', 'top']].set_visible(False)\n",
    "\n",
    "\t# Define the ticks for the y axis as null.\n",
    "\tax.yaxis.set_ticks_position('left')\n",
    "\tax.yaxis.set_major_locator(ticker.NullLocator())\n",
    "\tax.yaxis.set_major_formatter(\"\")\n",
    "\n",
    "\t# Define the ticks for the x axis.\n",
    "\tax.xaxis.set_ticks_position('bottom')\n",
    "\tax.xaxis.set_major_locator(ticker.MultipleLocator(1.00))\n",
    "\n",
    "\t# Define the tick styles.\n",
    "\tax.tick_params(which='major', width=1.00, length=5)\n",
    "\n",
    "\t# Define number line range.\n",
    "\tax.set_xlim(-3, 3)\n",
    "\tax.set_ylim(0, 1)\n",
    "\n",
    "# Create an empty figure with no Axes.\n",
    "# Make the figure 6 inches wide and 4 inches high.\n",
    "plt.figure(figsize=(6.0, 4.0))\n",
    "\n",
    "# Add and center an axes inside the image.\n",
    "ax = plt.subplot(2, 1, 1)\n",
    "\n",
    "# Give that axes the common parameters \n",
    "# from the setup function.\n",
    "setup(ax)\n",
    "\n",
    "# Create a point with the first number being the x axes \n",
    "# position and the second number being the y axes position.\n",
    "ax.plot(-2.5, 0.1, color='tab:blue', marker='o')\n",
    "\n",
    "plt.savefig(\"num-line-2.png\")"
   ]
  },
  {
   "cell_type": "code",
   "execution_count": 12,
   "metadata": {},
   "outputs": [
    {
     "data": {
      "image/png": "[encoded data removed]",
      "text/plain": [
       "<Figure size 600x400 with 1 Axes>"
      ]
     },
     "metadata": {},
     "output_type": "display_data"
    }
   ],
   "source": [
    "# import the parts of the matplotlib library we need\n",
    "import matplotlib.ticker as ticker\n",
    "import matplotlib.pyplot as plt\n",
    "\n",
    "def  setup(ax):\n",
    "\t\"\"\"Set up common parameters for the Axes\"\"\"\n",
    "\t# Only show the bottom spine.\n",
    "\tax.spines[['left', 'right', 'top']].set_visible(False)\n",
    "\n",
    "\t# Define the ticks for the y axis as null.\n",
    "\tax.yaxis.set_major_locator(ticker.NullLocator())\n",
    "\n",
    "\t# Define the ticks for the x axis.\n",
    "\tax.xaxis.set_major_locator(ticker.MultipleLocator(1.00))\n",
    "\n",
    "\t# Define the tick styles.\n",
    "\tax.tick_params(which='major', width=1.00, length=5)\n",
    "\n",
    "\t# Define number line range.\n",
    "\tax.set_xlim(-3, 3)\n",
    "\tax.set_ylim(0, 1)\n",
    "\n",
    "# Create an empty figure with no Axes.\n",
    "# Make the figure 6 inches wide and 4 inches high.\n",
    "plt.figure(figsize=(6.0, 4.0))\n",
    "\n",
    "# Add and center an axes inside the image.\n",
    "ax = plt.subplot(2, 1, 1)\n",
    "\n",
    "# Give that axes the common parameters \n",
    "# from the setup function.\n",
    "setup(ax)\n",
    "\n",
    "# Create a point with the first number being the x axes \n",
    "# position and the second number being the y axes position.\n",
    "ax.plot(\n",
    "\t-1, 0.1, \n",
    "\t0, 0.1, \n",
    "\t1.5, 0.1, \n",
    "\t2, 0.1, \n",
    "\tcolor='tab:blue', \n",
    "\tmarker='o'\n",
    ")\n",
    "\n",
    "plt.savefig(\"manuscript/resources/num-line-3.png\")"
   ]
  }
 ],
 "metadata": {
  "kernelspec": {
   "display_name": "py-foundation-ml-math",
   "language": "python",
   "name": "python3"
  },
  "language_info": {
   "codemirror_mode": {
    "name": "ipython",
    "version": 3
   },
   "file_extension": ".py",
   "mimetype": "text/x-python",
   "name": "python",
   "nbconvert_exporter": "python",
   "pygments_lexer": "ipython3",
   "version": "3.8.10"
  },
  "orig_nbformat": 4
 },
 "nbformat": 4,
 "nbformat_minor": 2
}
