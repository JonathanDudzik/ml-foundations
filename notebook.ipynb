{
 "cells": [
  {
   "cell_type": "code",
   "execution_count": 4,
   "metadata": {},
   "outputs": [
    {
     "data": {
      "image/png": "[encoded data removed]",
      "text/plain": [
       "<Figure size 600x400 with 1 Axes>"
      ]
     },
     "metadata": {},
     "output_type": "display_data"
    }
   ],
   "source": [
    "# import the parts of the matplotlib library we need\n",
    "import matplotlib.ticker as ticker\n",
    "import matplotlib.pyplot as plt\n",
    "\n",
    "def  setup(ax):\n",
    "\t\"\"\"Set up common parameters for the Axes\"\"\"\n",
    "\t# Only show the bottom spine.\n",
    "\tax.spines[['left', 'right', 'top']].set_visible(False)\n",
    "\n",
    "\t# Define the ticks for the y axis as null.\n",
    "\tax.yaxis.set_ticks_position('left')\n",
    "\tax.yaxis.set_major_locator(ticker.NullLocator())\n",
    "\tax.yaxis.set_major_formatter(\"\")\n",
    "\n",
    "\t# Define the ticks for the x axis.\n",
    "\tax.xaxis.set_ticks_position('bottom')\n",
    "\tax.xaxis.set_major_locator(ticker.MultipleLocator(1.00))\n",
    "\n",
    "\t# Define the tick styles.\n",
    "\tax.tick_params(which='major', width=1.00, length=5)\n",
    "\n",
    "\t# Define number line range.\n",
    "\tax.set_xlim(-3, 3)\n",
    "\tax.set_ylim(0, 1)\n",
    "\n",
    "# Create an empty figure with no Axes.\n",
    "# Make the figure 6 inches wide and 4 inches high.\n",
    "plt.figure(figsize=(6.0, 4.0))\n",
    "\n",
    "# Add and center an axes inside the image.\n",
    "ax = plt.subplot(2, 1, 1)\n",
    "\n",
    "# Give that axes the common parameters \n",
    "# from the setup function.\n",
    "setup(ax)\n",
    "\n",
    "# Create a point with the first number being the x axes \n",
    "# position and the second number being the y axes position.\n",
    "ax.plot(-2.5, 0.1, color='tab:blue', marker='o')\n",
    "\n",
    "plt.savefig(\"num-line-2.png\")"
   ]
  },
  {
   "cell_type": "code",
   "execution_count": 5,
   "metadata": {},
   "outputs": [
    {
     "data": {
      "image/png": "[encoded data removed]",
      "text/plain": [
       "<Figure size 600x400 with 1 Axes>"
      ]
     },
     "metadata": {},
     "output_type": "display_data"
    }
   ],
   "source": [
    "# import the parts of the matplotlib library we need\n",
    "import matplotlib.ticker as ticker\n",
    "import matplotlib.pyplot as plt\n",
    "\n",
    "def  setup(ax):\n",
    "\t\"\"\"Set up common parameters for the Axes\"\"\"\n",
    "\n",
    "\t# Only show the bottom spine.\n",
    "\t# You can think of a spine as an edge or border.\n",
    "\tax.spines[['left', 'right', 'top']].set_visible(False)\n",
    "\n",
    "\t# Make the ticks for the y-axis null.\n",
    "\t# This next line of code essentially removes...\n",
    "\t# the ticks for the y-axis.\n",
    "\tax.yaxis.set_major_locator(ticker.NullLocator())\n",
    "\n",
    "\t# Make the ticks for the x-axis 1 inch apart.\n",
    "\tax.xaxis.set_major_locator(ticker.MultipleLocator(1.00))\n",
    "\n",
    "\t# Define the tick styles.\n",
    "\tax.tick_params(which='major', width=1.00, length=5)\n",
    "\n",
    "\t# Define number line range.\n",
    "\tax.set_xlim(-3, 3)\n",
    "\tax.set_ylim(0, 1)\n",
    "\n",
    "# Create an empty figure with no axes.\n",
    "# Make the figure 6 inches wide and 4 inches high.\n",
    "plt.figure(figsize=(6.0, 4.0))\n",
    "\n",
    "# Add and center an axis inside the image.\n",
    "# The first parameter is the number of rows.\n",
    "# The second parameter is the number of columns.\n",
    "# The third parameter is an index for grid placement.\n",
    "ax = plt.subplot(2, 1, 1)\n",
    "\n",
    "# Give that axis the common parameters... \n",
    "# from the setup function.\n",
    "setup(ax)\n",
    "\n",
    "# Create the points on the number line.\n",
    "# Each point in defined by a set of two numbers.\n",
    "# For each set, the first number is the x-axis position... \n",
    "# and the second number is the y-axis position.\n",
    "ax.plot(\n",
    "\t-1, 0.1, \n",
    "\t0, 0.1, \n",
    "\t1.5, 0.1, \n",
    "\t2, 0.1, \n",
    "\tcolor='tab:blue', \n",
    "\tmarker='o'\n",
    ")\n",
    "\n",
    "# Save an image of the number line\n",
    "plt.savefig(\"num-line-3.png\")"
   ]
  },
  {
   "cell_type": "code",
   "execution_count": 6,
   "metadata": {},
   "outputs": [
    {
     "data": {
      "image/png": "[encoded data removed]",
      "text/plain": [
       "<Figure size 600x400 with 1 Axes>"
      ]
     },
     "metadata": {},
     "output_type": "display_data"
    },
    {
     "data": {
      "image/png": "[encoded data removed]",
      "text/plain": [
       "<Figure size 600x400 with 1 Axes>"
      ]
     },
     "metadata": {},
     "output_type": "display_data"
    }
   ],
   "source": [
    "# import the parts of the matplotlib library we need\n",
    "import matplotlib.ticker as ticker\n",
    "import matplotlib.pyplot as plt\n",
    "\n",
    "def  setup(ax):\n",
    "\t\"\"\"Set up common parameters for the Axes\"\"\"\n",
    "\n",
    "\t# Only show the bottom spine.\n",
    "\t# You can think of a spine as an edge or border.\n",
    "\tax.spines[['left', 'right', 'top']].set_visible(False)\n",
    "\n",
    "\t# Make the ticks for the y-axis null.\n",
    "\t# This next line of code essentially removes...\n",
    "\t# the ticks for the y-axis.\n",
    "\tax.yaxis.set_major_locator(ticker.NullLocator())\n",
    "\n",
    "\t# Make the ticks for the x-axis 1 inch apart.\n",
    "\tax.xaxis.set_major_locator(ticker.MultipleLocator(1))\n",
    "\n",
    "\t# Define the tick styles.\n",
    "\tax.tick_params(which='major', width=1.00, length=5)\n",
    "\n",
    "\t# Define number line range.\n",
    "\tax.set_xlim(-3, 3)\n",
    "\tax.set_ylim(0, 1)\n",
    "\n",
    "# Create an empty figure with no axes.\n",
    "# Make the figure 6 inches wide and 4 inches high.\n",
    "plt.figure(figsize=(6.0, 4.0))\n",
    "\n",
    "# Add and center an axis inside the image.\n",
    "# The first parameter is the number of rows.\n",
    "# The second parameter is the number of columns.\n",
    "# The third parameter is an index for grid placement.\n",
    "ax = plt.subplot(2, 1, 1)\n",
    "\n",
    "# Give that axis the common parameters... \n",
    "# from the setup function.\n",
    "setup(ax)\n",
    "\n",
    "# You can create multiple figures by using multiple figure calls with an \n",
    "# increasing figure number.\n",
    "# figure 1 graphs the inequality \"x is greater than -1\"\n",
    "plt.figure(1, figsize=(6.0, 4.0))\n",
    "ax = plt.subplot(2, 1, 1)\n",
    "setup(ax)\n",
    "\n",
    "# markevery with a list marks at those indices of the plot x y lists (starts at 0)\n",
    "plt.plot([-0.9, 2.9], [0.1, 0.1])\n",
    "ax.plot(-1, 0.1, color='tab:blue', fillstyle='none', marker='o')\n",
    "ax.plot(2.9, 0.1, color='tab:blue', marker='>')\n",
    "\n",
    "plt.savefig(\"manuscript/resources/num-line-4.png\")\n",
    "\n",
    "# figure 2 graphs the inequality \"x is less than or equal to 2\"\n",
    "plt.figure(2, figsize=(6.0, 4.0))\n",
    "ax = plt.subplot(2, 1, 1)\n",
    "setup(ax)\n",
    "\n",
    "plt.plot([-2.9, 1.9], [0.1, 0.1])\n",
    "ax.plot(2, 0.1, color='tab:blue', marker='o')\n",
    "ax.plot(-2.9, 0.1, color='tab:blue', marker='<')\n",
    "\n",
    "plt.savefig(\"manuscript/resources/num-line-5.png\")"
   ]
  },
  {
   "cell_type": "code",
   "execution_count": 7,
   "metadata": {},
   "outputs": [
    {
     "name": "stdout",
     "output_type": "stream",
     "text": [
      "34\n"
     ]
    }
   ],
   "source": [
    "x = -20\n",
    "y = 14\n",
    "print(abs(x) + y)"
   ]
  },
  {
   "cell_type": "code",
   "execution_count": 8,
   "metadata": {},
   "outputs": [
    {
     "name": "stdout",
     "output_type": "stream",
     "text": [
      "6\n"
     ]
    }
   ],
   "source": [
    "x = -10\n",
    "y = -4\n",
    "print(abs(x) + -abs(y))\n",
    "\n",
    "# Expected output: \n",
    "# 6"
   ]
  },
  {
   "cell_type": "code",
   "execution_count": 26,
   "metadata": {},
   "outputs": [
    {
     "name": "stdout",
     "output_type": "stream",
     "text": [
      "28\n"
     ]
    }
   ],
   "source": [
    "def calculate_distance(a, b):\n",
    "    # Sort a and b in descending order\n",
    "    sorted_a, sorted_b = max(a, b), min(a, b)\n",
    "\n",
    "    return abs(sorted_a - sorted_b)\n",
    "\n",
    "print(calculate_distance(-8, -20))"
   ]
  },
  {
   "cell_type": "code",
   "execution_count": 3,
   "metadata": {},
   "outputs": [
    {
     "name": "stdout",
     "output_type": "stream",
     "text": [
      "No decimal place: 38\n",
      "One decimal places: 37.6\n",
      "Two decimal places: 37.58\n",
      "Three decimal places 37.577\n"
     ]
    }
   ],
   "source": [
    "rounded_number = round(37.5767)\n",
    "print(\"No decimal place:\", rounded_number)\n",
    "\n",
    "rounded_number = round(37.5767, 1)\n",
    "print(\"One decimal place:\", rounded_number)\n",
    "\n",
    "rounded_number = round(37.5767, 2)\n",
    "print(\"Two decimal places:\", rounded_number)\n",
    "\n",
    "rounded_number = round(37.5767, 3)\n",
    "print(\"Three decimal places\", rounded_number)"
   ]
  },
  {
   "cell_type": "code",
   "execution_count": 5,
   "metadata": {},
   "outputs": [
    {
     "name": "stdout",
     "output_type": "stream",
     "text": [
      "[0.123, 1.618, 2.71, 3.14, 4.2]\n"
     ]
    }
   ],
   "source": [
    "# Sort a list in ascending order\n",
    "\n",
    "decimals = [3.14, 2.71, 1.618, 4.20, 0.123]\n",
    "\n",
    "sorted_decimals = sorted(decimals)\n",
    "\n",
    "print(sorted_decimals) \n",
    "\n",
    "# Expected Output: \n",
    "# [0.123, 1.618, 2.71, 3.14, 4.2]"
   ]
  },
  {
   "cell_type": "code",
   "execution_count": 6,
   "metadata": {},
   "outputs": [
    {
     "name": "stdout",
     "output_type": "stream",
     "text": [
      "[4.2, 3.14, 2.71, 1.618, 0.123]\n"
     ]
    }
   ],
   "source": [
    "# Sort a list in descending order\n",
    "sorted_decimals = sorted(decimals, reverse=True)\n",
    "\n",
    "print(sorted_decimals) \n",
    "\n",
    "# Expected Output: \n",
    "# [4.2, 3.14, 2.71, 1.618, 0.123]"
   ]
  },
  {
   "cell_type": "code",
   "execution_count": 3,
   "metadata": {},
   "outputs": [
    {
     "name": "stdout",
     "output_type": "stream",
     "text": [
      "0.75\n"
     ]
    }
   ],
   "source": [
    "# from decimal import Decimal\n",
    "\n",
    "# Define the numerator and denominator of the fraction\n",
    "numerator = 3\n",
    "denominator = 4\n",
    "\n",
    "# Convert the fraction to a decimal\n",
    "decimal_value = numerator / denominator\n",
    "\n",
    "# Print the decimal value\n",
    "print(decimal_value)"
   ]
  },
  {
   "cell_type": "code",
   "execution_count": 4,
   "metadata": {},
   "outputs": [
    {
     "name": "stdout",
     "output_type": "stream",
     "text": [
      "3/4\n",
      "1/2\n",
      "1/2\n",
      "11/15\n",
      "0.75\n",
      "0.75\n"
     ]
    }
   ],
   "source": [
    "from fractions import Fraction\n",
    "\n",
    "# Creating a fraction with numerator and denominator\n",
    "fraction1 = Fraction(3, 4)\n",
    "print(fraction1)  # Output: 3/4\n",
    "\n",
    "# Creating a fraction from a float\n",
    "fraction2 = Fraction(0.5)\n",
    "print(fraction2)  # Output: 1/2\n",
    "\n",
    "# Creating a fraction from a string\n",
    "fraction3 = Fraction(\"5/10\")\n",
    "print(fraction3)  # Output: 1/2\n",
    "\n",
    "# Performing arithmetic operations with fractions\n",
    "fraction4 = Fraction(1, 3)\n",
    "fraction5 = Fraction(2, 5)\n",
    "\n",
    "sum_fraction = fraction4 + fraction5\n",
    "print(sum_fraction)  # Output: 11/15\n",
    "\n",
    "# Converting a fraction to a float or a decimal\n",
    "float_value = float(fraction1)\n",
    "print(float_value)  # Output: 0.75\n",
    "\n",
    "decimal_value = fraction1.__float__()\n",
    "print(decimal_value)  # Output: 0.75\n"
   ]
  },
  {
   "cell_type": "code",
   "execution_count": 14,
   "metadata": {},
   "outputs": [
    {
     "name": "stdout",
     "output_type": "stream",
     "text": [
      "Setup Complete\n"
     ]
    }
   ],
   "source": [
    "from random import randint\n",
    "TRAIN_SET_LIMIT = 1000\n",
    "TRAIN_SET_COUNT = 100\n",
    "\n",
    "TRAIN_INPUT = list()\n",
    "TRAIN_OUTPUT = list()\n",
    "for i in range(TRAIN_SET_COUNT):\n",
    "    a = randint(0, TRAIN_SET_LIMIT)\n",
    "    b = randint(0, TRAIN_SET_LIMIT)\n",
    "    c = randint(0, TRAIN_SET_LIMIT)\n",
    "    op = a + (2*b) + (3*c)\n",
    "    TRAIN_INPUT.append([a, b, c])\n",
    "    TRAIN_OUTPUT.append(op)\n",
    "\n",
    "print(\"Setup Complete\")"
   ]
  },
  {
   "cell_type": "code",
   "execution_count": 17,
   "metadata": {},
   "outputs": [
    {
     "data": {
      "text/html": [
       "<style>#sk-container-id-8 {color: black;background-color: white;}#sk-container-id-8 pre{padding: 0;}#sk-container-id-8 div.sk-toggleable {background-color: white;}#sk-container-id-8 label.sk-toggleable__label {cursor: pointer;display: block;width: 100%;margin-bottom: 0;padding: 0.3em;box-sizing: border-box;text-align: center;}#sk-container-id-8 label.sk-toggleable__label-arrow:before {content: \"▸\";float: left;margin-right: 0.25em;color: #696969;}#sk-container-id-8 label.sk-toggleable__label-arrow:hover:before {color: black;}#sk-container-id-8 div.sk-estimator:hover label.sk-toggleable__label-arrow:before {color: black;}#sk-container-id-8 div.sk-toggleable__content {max-height: 0;max-width: 0;overflow: hidden;text-align: left;background-color: #f0f8ff;}#sk-container-id-8 div.sk-toggleable__content pre {margin: 0.2em;color: black;border-radius: 0.25em;background-color: #f0f8ff;}#sk-container-id-8 input.sk-toggleable__control:checked~div.sk-toggleable__content {max-height: 200px;max-width: 100%;overflow: auto;}#sk-container-id-8 input.sk-toggleable__control:checked~label.sk-toggleable__label-arrow:before {content: \"▾\";}#sk-container-id-8 div.sk-estimator input.sk-toggleable__control:checked~label.sk-toggleable__label {background-color: #d4ebff;}#sk-container-id-8 div.sk-label input.sk-toggleable__control:checked~label.sk-toggleable__label {background-color: #d4ebff;}#sk-container-id-8 input.sk-hidden--visually {border: 0;clip: rect(1px 1px 1px 1px);clip: rect(1px, 1px, 1px, 1px);height: 1px;margin: -1px;overflow: hidden;padding: 0;position: absolute;width: 1px;}#sk-container-id-8 div.sk-estimator {font-family: monospace;background-color: #f0f8ff;border: 1px dotted black;border-radius: 0.25em;box-sizing: border-box;margin-bottom: 0.5em;}#sk-container-id-8 div.sk-estimator:hover {background-color: #d4ebff;}#sk-container-id-8 div.sk-parallel-item::after {content: \"\";width: 100%;border-bottom: 1px solid gray;flex-grow: 1;}#sk-container-id-8 div.sk-label:hover label.sk-toggleable__label {background-color: #d4ebff;}#sk-container-id-8 div.sk-serial::before {content: \"\";position: absolute;border-left: 1px solid gray;box-sizing: border-box;top: 0;bottom: 0;left: 50%;z-index: 0;}#sk-container-id-8 div.sk-serial {display: flex;flex-direction: column;align-items: center;background-color: white;padding-right: 0.2em;padding-left: 0.2em;position: relative;}#sk-container-id-8 div.sk-item {position: relative;z-index: 1;}#sk-container-id-8 div.sk-parallel {display: flex;align-items: stretch;justify-content: center;background-color: white;position: relative;}#sk-container-id-8 div.sk-item::before, #sk-container-id-8 div.sk-parallel-item::before {content: \"\";position: absolute;border-left: 1px solid gray;box-sizing: border-box;top: 0;bottom: 0;left: 50%;z-index: -1;}#sk-container-id-8 div.sk-parallel-item {display: flex;flex-direction: column;z-index: 1;position: relative;background-color: white;}#sk-container-id-8 div.sk-parallel-item:first-child::after {align-self: flex-end;width: 50%;}#sk-container-id-8 div.sk-parallel-item:last-child::after {align-self: flex-start;width: 50%;}#sk-container-id-8 div.sk-parallel-item:only-child::after {width: 0;}#sk-container-id-8 div.sk-dashed-wrapped {border: 1px dashed gray;margin: 0 0.4em 0.5em 0.4em;box-sizing: border-box;padding-bottom: 0.4em;background-color: white;}#sk-container-id-8 div.sk-label label {font-family: monospace;font-weight: bold;display: inline-block;line-height: 1.2em;}#sk-container-id-8 div.sk-label-container {text-align: center;}#sk-container-id-8 div.sk-container {/* jupyter's `normalize.less` sets `[hidden] { display: none; }` but bootstrap.min.css set `[hidden] { display: none !important; }` so we also need the `!important` here to be able to override the default hidden behavior on the sphinx rendered scikit-learn.org. See: https://github.com/scikit-learn/scikit-learn/issues/21755 */display: inline-block !important;position: relative;}#sk-container-id-8 div.sk-text-repr-fallback {display: none;}</style><div id=\"sk-container-id-8\" class=\"sk-top-container\"><div class=\"sk-text-repr-fallback\"><pre>LinearRegression(n_jobs=-1)</pre><b>In a Jupyter environment, please rerun this cell to show the HTML representation or trust the notebook. <br />On GitHub, the HTML representation is unable to render, please try loading this page with nbviewer.org.</b></div><div class=\"sk-container\" hidden><div class=\"sk-item\"><div class=\"sk-estimator sk-toggleable\"><input class=\"sk-toggleable__control sk-hidden--visually\" id=\"sk-estimator-id-8\" type=\"checkbox\" checked><label for=\"sk-estimator-id-8\" class=\"sk-toggleable__label sk-toggleable__label-arrow\">LinearRegression</label><div class=\"sk-toggleable__content\"><pre>LinearRegression(n_jobs=-1)</pre></div></div></div></div></div>"
      ],
      "text/plain": [
       "LinearRegression(n_jobs=-1)"
      ]
     },
     "execution_count": 17,
     "metadata": {},
     "output_type": "execute_result"
    }
   ],
   "source": [
    "from sklearn.linear_model import LinearRegression\n",
    "\n",
    "predictor = LinearRegression(n_jobs=-1)\n",
    "predictor.fit(X=TRAIN_INPUT, y=TRAIN_OUTPUT)"
   ]
  },
  {
   "cell_type": "code",
   "execution_count": 16,
   "metadata": {},
   "outputs": [
    {
     "name": "stdout",
     "output_type": "stream",
     "text": [
      "Outcome : [140.]\n",
      "Coefficients : [1. 2. 3.]\n"
     ]
    }
   ],
   "source": [
    "X_TEST = [[10, 20, 30]]\n",
    "outcome = predictor.predict(X=X_TEST)\n",
    "coefficients = predictor.coef_\n",
    "\n",
    "print('Outcome : {}\\nCoefficients : {}'.format(outcome, coefficients))"
   ]
  }
 ],
 "metadata": {
  "kernelspec": {
   "display_name": "ml-foundations",
   "language": "python",
   "name": "python3"
  },
  "language_info": {
   "codemirror_mode": {
    "name": "ipython",
    "version": 3
   },
   "file_extension": ".py",
   "mimetype": "text/x-python",
   "name": "python",
   "nbconvert_exporter": "python",
   "pygments_lexer": "ipython3",
   "version": "3.8.10"
  },
  "orig_nbformat": 4,
  "vscode": {
   "interpreter": {
    "hash": "92661749d95004f5e02af60f3274157f7d662d616336da244a079ca6bbf71b18"
   }
  }
 },
 "nbformat": 4,
 "nbformat_minor": 2
}
